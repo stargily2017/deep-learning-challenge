{
  "cells": [
    {
      "cell_type": "markdown",
      "metadata": {
        "id": "HcZoeCK6pw5O"
      },
      "source": [
        "## Preprocessing"
      ]
    },
    {
      "cell_type": "code",
      "execution_count": 1,
      "metadata": {
        "colab": {
          "base_uri": "https://localhost:8080/",
          "height": 423
        },
        "id": "HdXLi8f8pw5S",
        "outputId": "0c604f9e-a92f-4264-f362-8ac8f6f258b8"
      },
      "outputs": [
        {
          "data": {
            "text/html": [
              "<div>\n",
              "<style scoped>\n",
              "    .dataframe tbody tr th:only-of-type {\n",
              "        vertical-align: middle;\n",
              "    }\n",
              "\n",
              "    .dataframe tbody tr th {\n",
              "        vertical-align: top;\n",
              "    }\n",
              "\n",
              "    .dataframe thead th {\n",
              "        text-align: right;\n",
              "    }\n",
              "</style>\n",
              "<table border=\"1\" class=\"dataframe\">\n",
              "  <thead>\n",
              "    <tr style=\"text-align: right;\">\n",
              "      <th></th>\n",
              "      <th>EIN</th>\n",
              "      <th>NAME</th>\n",
              "      <th>APPLICATION_TYPE</th>\n",
              "      <th>AFFILIATION</th>\n",
              "      <th>CLASSIFICATION</th>\n",
              "      <th>USE_CASE</th>\n",
              "      <th>ORGANIZATION</th>\n",
              "      <th>STATUS</th>\n",
              "      <th>INCOME_AMT</th>\n",
              "      <th>SPECIAL_CONSIDERATIONS</th>\n",
              "      <th>ASK_AMT</th>\n",
              "      <th>IS_SUCCESSFUL</th>\n",
              "    </tr>\n",
              "  </thead>\n",
              "  <tbody>\n",
              "    <tr>\n",
              "      <th>0</th>\n",
              "      <td>10520599</td>\n",
              "      <td>BLUE KNIGHTS MOTORCYCLE CLUB</td>\n",
              "      <td>T10</td>\n",
              "      <td>Independent</td>\n",
              "      <td>C1000</td>\n",
              "      <td>ProductDev</td>\n",
              "      <td>Association</td>\n",
              "      <td>1</td>\n",
              "      <td>0</td>\n",
              "      <td>N</td>\n",
              "      <td>5000</td>\n",
              "      <td>1</td>\n",
              "    </tr>\n",
              "    <tr>\n",
              "      <th>1</th>\n",
              "      <td>10531628</td>\n",
              "      <td>AMERICAN CHESAPEAKE CLUB CHARITABLE TR</td>\n",
              "      <td>T3</td>\n",
              "      <td>Independent</td>\n",
              "      <td>C2000</td>\n",
              "      <td>Preservation</td>\n",
              "      <td>Co-operative</td>\n",
              "      <td>1</td>\n",
              "      <td>1-9999</td>\n",
              "      <td>N</td>\n",
              "      <td>108590</td>\n",
              "      <td>1</td>\n",
              "    </tr>\n",
              "    <tr>\n",
              "      <th>2</th>\n",
              "      <td>10547893</td>\n",
              "      <td>ST CLOUD PROFESSIONAL FIREFIGHTERS</td>\n",
              "      <td>T5</td>\n",
              "      <td>CompanySponsored</td>\n",
              "      <td>C3000</td>\n",
              "      <td>ProductDev</td>\n",
              "      <td>Association</td>\n",
              "      <td>1</td>\n",
              "      <td>0</td>\n",
              "      <td>N</td>\n",
              "      <td>5000</td>\n",
              "      <td>0</td>\n",
              "    </tr>\n",
              "    <tr>\n",
              "      <th>3</th>\n",
              "      <td>10553066</td>\n",
              "      <td>SOUTHSIDE ATHLETIC ASSOCIATION</td>\n",
              "      <td>T3</td>\n",
              "      <td>CompanySponsored</td>\n",
              "      <td>C2000</td>\n",
              "      <td>Preservation</td>\n",
              "      <td>Trust</td>\n",
              "      <td>1</td>\n",
              "      <td>10000-24999</td>\n",
              "      <td>N</td>\n",
              "      <td>6692</td>\n",
              "      <td>1</td>\n",
              "    </tr>\n",
              "    <tr>\n",
              "      <th>4</th>\n",
              "      <td>10556103</td>\n",
              "      <td>GENETIC RESEARCH INSTITUTE OF THE DESERT</td>\n",
              "      <td>T3</td>\n",
              "      <td>Independent</td>\n",
              "      <td>C1000</td>\n",
              "      <td>Heathcare</td>\n",
              "      <td>Trust</td>\n",
              "      <td>1</td>\n",
              "      <td>100000-499999</td>\n",
              "      <td>N</td>\n",
              "      <td>142590</td>\n",
              "      <td>1</td>\n",
              "    </tr>\n",
              "  </tbody>\n",
              "</table>\n",
              "</div>"
            ],
            "text/plain": [
              "        EIN                                      NAME APPLICATION_TYPE   \n",
              "0  10520599              BLUE KNIGHTS MOTORCYCLE CLUB              T10  \\\n",
              "1  10531628    AMERICAN CHESAPEAKE CLUB CHARITABLE TR               T3   \n",
              "2  10547893        ST CLOUD PROFESSIONAL FIREFIGHTERS               T5   \n",
              "3  10553066            SOUTHSIDE ATHLETIC ASSOCIATION               T3   \n",
              "4  10556103  GENETIC RESEARCH INSTITUTE OF THE DESERT               T3   \n",
              "\n",
              "        AFFILIATION CLASSIFICATION      USE_CASE  ORGANIZATION  STATUS   \n",
              "0       Independent          C1000    ProductDev   Association       1  \\\n",
              "1       Independent          C2000  Preservation  Co-operative       1   \n",
              "2  CompanySponsored          C3000    ProductDev   Association       1   \n",
              "3  CompanySponsored          C2000  Preservation         Trust       1   \n",
              "4       Independent          C1000     Heathcare         Trust       1   \n",
              "\n",
              "      INCOME_AMT SPECIAL_CONSIDERATIONS  ASK_AMT  IS_SUCCESSFUL  \n",
              "0              0                      N     5000              1  \n",
              "1         1-9999                      N   108590              1  \n",
              "2              0                      N     5000              0  \n",
              "3    10000-24999                      N     6692              1  \n",
              "4  100000-499999                      N   142590              1  "
            ]
          },
          "execution_count": 1,
          "metadata": {},
          "output_type": "execute_result"
        }
      ],
      "source": [
        "# Import our dependencies\n",
        "from sklearn.model_selection import train_test_split\n",
        "from sklearn.preprocessing import StandardScaler\n",
        "import pandas as pd\n",
        "import tensorflow as tf\n",
        "\n",
        "#  Import and read the charity_data.csv.\n",
        "import pandas as pd\n",
        "application_df = pd.read_csv(\"https://static.bc-edx.com/data/dl-1-2/m21/lms/starter/charity_data.csv\")\n",
        "application_df.head()"
      ]
    },
    {
      "cell_type": "code",
      "execution_count": 2,
      "metadata": {
        "colab": {
          "base_uri": "https://localhost:8080/",
          "height": 337
        },
        "id": "ZswEP4T7pw5U",
        "outputId": "db1fdb46-4122-49e1-a472-8a06a1aa6571"
      },
      "outputs": [
        {
          "data": {
            "text/html": [
              "<div>\n",
              "<style scoped>\n",
              "    .dataframe tbody tr th:only-of-type {\n",
              "        vertical-align: middle;\n",
              "    }\n",
              "\n",
              "    .dataframe tbody tr th {\n",
              "        vertical-align: top;\n",
              "    }\n",
              "\n",
              "    .dataframe thead th {\n",
              "        text-align: right;\n",
              "    }\n",
              "</style>\n",
              "<table border=\"1\" class=\"dataframe\">\n",
              "  <thead>\n",
              "    <tr style=\"text-align: right;\">\n",
              "      <th></th>\n",
              "      <th>NAME</th>\n",
              "      <th>APPLICATION_TYPE</th>\n",
              "      <th>AFFILIATION</th>\n",
              "      <th>CLASSIFICATION</th>\n",
              "      <th>USE_CASE</th>\n",
              "      <th>ORGANIZATION</th>\n",
              "      <th>STATUS</th>\n",
              "      <th>INCOME_AMT</th>\n",
              "      <th>SPECIAL_CONSIDERATIONS</th>\n",
              "      <th>ASK_AMT</th>\n",
              "      <th>IS_SUCCESSFUL</th>\n",
              "    </tr>\n",
              "  </thead>\n",
              "  <tbody>\n",
              "    <tr>\n",
              "      <th>0</th>\n",
              "      <td>BLUE KNIGHTS MOTORCYCLE CLUB</td>\n",
              "      <td>T10</td>\n",
              "      <td>Independent</td>\n",
              "      <td>C1000</td>\n",
              "      <td>ProductDev</td>\n",
              "      <td>Association</td>\n",
              "      <td>1</td>\n",
              "      <td>0</td>\n",
              "      <td>N</td>\n",
              "      <td>5000</td>\n",
              "      <td>1</td>\n",
              "    </tr>\n",
              "    <tr>\n",
              "      <th>1</th>\n",
              "      <td>AMERICAN CHESAPEAKE CLUB CHARITABLE TR</td>\n",
              "      <td>T3</td>\n",
              "      <td>Independent</td>\n",
              "      <td>C2000</td>\n",
              "      <td>Preservation</td>\n",
              "      <td>Co-operative</td>\n",
              "      <td>1</td>\n",
              "      <td>1-9999</td>\n",
              "      <td>N</td>\n",
              "      <td>108590</td>\n",
              "      <td>1</td>\n",
              "    </tr>\n",
              "    <tr>\n",
              "      <th>2</th>\n",
              "      <td>ST CLOUD PROFESSIONAL FIREFIGHTERS</td>\n",
              "      <td>T5</td>\n",
              "      <td>CompanySponsored</td>\n",
              "      <td>C3000</td>\n",
              "      <td>ProductDev</td>\n",
              "      <td>Association</td>\n",
              "      <td>1</td>\n",
              "      <td>0</td>\n",
              "      <td>N</td>\n",
              "      <td>5000</td>\n",
              "      <td>0</td>\n",
              "    </tr>\n",
              "    <tr>\n",
              "      <th>3</th>\n",
              "      <td>SOUTHSIDE ATHLETIC ASSOCIATION</td>\n",
              "      <td>T3</td>\n",
              "      <td>CompanySponsored</td>\n",
              "      <td>C2000</td>\n",
              "      <td>Preservation</td>\n",
              "      <td>Trust</td>\n",
              "      <td>1</td>\n",
              "      <td>10000-24999</td>\n",
              "      <td>N</td>\n",
              "      <td>6692</td>\n",
              "      <td>1</td>\n",
              "    </tr>\n",
              "    <tr>\n",
              "      <th>4</th>\n",
              "      <td>GENETIC RESEARCH INSTITUTE OF THE DESERT</td>\n",
              "      <td>T3</td>\n",
              "      <td>Independent</td>\n",
              "      <td>C1000</td>\n",
              "      <td>Heathcare</td>\n",
              "      <td>Trust</td>\n",
              "      <td>1</td>\n",
              "      <td>100000-499999</td>\n",
              "      <td>N</td>\n",
              "      <td>142590</td>\n",
              "      <td>1</td>\n",
              "    </tr>\n",
              "  </tbody>\n",
              "</table>\n",
              "</div>"
            ],
            "text/plain": [
              "                                       NAME APPLICATION_TYPE   \n",
              "0              BLUE KNIGHTS MOTORCYCLE CLUB              T10  \\\n",
              "1    AMERICAN CHESAPEAKE CLUB CHARITABLE TR               T3   \n",
              "2        ST CLOUD PROFESSIONAL FIREFIGHTERS               T5   \n",
              "3            SOUTHSIDE ATHLETIC ASSOCIATION               T3   \n",
              "4  GENETIC RESEARCH INSTITUTE OF THE DESERT               T3   \n",
              "\n",
              "        AFFILIATION CLASSIFICATION      USE_CASE  ORGANIZATION  STATUS   \n",
              "0       Independent          C1000    ProductDev   Association       1  \\\n",
              "1       Independent          C2000  Preservation  Co-operative       1   \n",
              "2  CompanySponsored          C3000    ProductDev   Association       1   \n",
              "3  CompanySponsored          C2000  Preservation         Trust       1   \n",
              "4       Independent          C1000     Heathcare         Trust       1   \n",
              "\n",
              "      INCOME_AMT SPECIAL_CONSIDERATIONS  ASK_AMT  IS_SUCCESSFUL  \n",
              "0              0                      N     5000              1  \n",
              "1         1-9999                      N   108590              1  \n",
              "2              0                      N     5000              0  \n",
              "3    10000-24999                      N     6692              1  \n",
              "4  100000-499999                      N   142590              1  "
            ]
          },
          "execution_count": 2,
          "metadata": {},
          "output_type": "execute_result"
        }
      ],
      "source": [
        "# Drop the non-beneficial ID columns, 'EIN' and 'NAME'.\n",
        "application_df = application_df.drop(columns = ['EIN'])\n",
        "application_df.head()\n",
        "\n"
      ]
    },
    {
      "cell_type": "code",
      "execution_count": 3,
      "metadata": {
        "colab": {
          "base_uri": "https://localhost:8080/"
        },
        "id": "WUUY9Oo6pw5V",
        "outputId": "704183ac-b885-4bb5-9740-14fc02fb7b62"
      },
      "outputs": [
        {
          "data": {
            "text/plain": [
              "NAME                      19568\n",
              "APPLICATION_TYPE             17\n",
              "AFFILIATION                   6\n",
              "CLASSIFICATION               71\n",
              "USE_CASE                      5\n",
              "ORGANIZATION                  4\n",
              "STATUS                        2\n",
              "INCOME_AMT                    9\n",
              "SPECIAL_CONSIDERATIONS        2\n",
              "ASK_AMT                    8747\n",
              "IS_SUCCESSFUL                 2\n",
              "dtype: int64"
            ]
          },
          "execution_count": 3,
          "metadata": {},
          "output_type": "execute_result"
        }
      ],
      "source": [
        "# Determine the number of unique values in each column.\n",
        "application_df.nunique()"
      ]
    },
    {
      "cell_type": "code",
      "execution_count": 4,
      "metadata": {
        "colab": {
          "base_uri": "https://localhost:8080/"
        },
        "id": "tWXHRuNd7C8L",
        "outputId": "8314e337-e8dd-4092-87bb-f8613849c12a"
      },
      "outputs": [
        {
          "data": {
            "text/plain": [
              "NAME\n",
              "PARENT BOOSTER USA INC                                                  1260\n",
              "TOPS CLUB INC                                                            765\n",
              "UNITED STATES BOWLING CONGRESS INC                                       700\n",
              "WASHINGTON STATE UNIVERSITY                                              492\n",
              "AMATEUR ATHLETIC UNION OF THE UNITED STATES INC                          408\n",
              "                                                                        ... \n",
              "ST LOUIS SLAM WOMENS FOOTBALL                                              1\n",
              "AIESEC ALUMNI IBEROAMERICA CORP                                            1\n",
              "WEALLBLEEDRED ORG INC                                                      1\n",
              "AMERICAN SOCIETY FOR STANDARDS IN MEDIUMSHIP & PSYCHICAL INVESTIGATI       1\n",
              "WATERHOUSE CHARITABLE TR                                                   1\n",
              "Name: count, Length: 19568, dtype: int64"
            ]
          },
          "execution_count": 4,
          "metadata": {},
          "output_type": "execute_result"
        }
      ],
      "source": [
        "countsA = application_df['NAME'].value_counts()\n",
        "countsA"
      ]
    },
    {
      "cell_type": "code",
      "execution_count": 5,
      "metadata": {
        "id": "31rMXOcU7Hcl"
      },
      "outputs": [],
      "source": [
        "# use the variable name names_replace\n",
        "names_replace = list(countsA[countsA<5].index)\n"
      ]
    },
    {
      "cell_type": "code",
      "execution_count": 6,
      "metadata": {
        "colab": {
          "base_uri": "https://localhost:8080/"
        },
        "id": "tLSSGU617Sgg",
        "outputId": "036047d2-9079-40e1-bb5d-d3038fd25a21"
      },
      "outputs": [
        {
          "data": {
            "text/plain": [
              "NAME\n",
              "Other                                                                19803\n",
              "PARENT BOOSTER USA INC                                                1260\n",
              "TOPS CLUB INC                                                          765\n",
              "UNITED STATES BOWLING CONGRESS INC                                     700\n",
              "WASHINGTON STATE UNIVERSITY                                            492\n",
              "                                                                     ...  \n",
              "GUILDS OF THE SANTA FE OPERA INC                                         5\n",
              "FAMILY MOTOR COACH ASSOCIATION                                           5\n",
              "JAMESTOWN SOCIETY                                                        5\n",
              "MOST WORSHIPFUL PRINCE HALL GRAND LODGE OF FREE & ACCEPTED MASONS        5\n",
              "PTA HAWAII CONGRESS                                                      5\n",
              "Name: count, Length: 403, dtype: int64"
            ]
          },
          "execution_count": 6,
          "metadata": {},
          "output_type": "execute_result"
        }
      ],
      "source": [
        "# Replace in dataframe\n",
        "for name in names_replace:\n",
        "    application_df['NAME'] = application_df['NAME'].replace(name,\"Other\")\n",
        "\n",
        "# Check to make sure binning was successful\n",
        "application_df['NAME'].value_counts()"
      ]
    },
    {
      "cell_type": "code",
      "execution_count": 8,
      "metadata": {
        "colab": {
          "base_uri": "https://localhost:8080/"
        },
        "id": "CA_aeoV-pw5V",
        "outputId": "8b8d0915-623d-4ce0-a6bd-0e75279ea299"
      },
      "outputs": [
        {
          "data": {
            "text/plain": [
              "APPLICATION_TYPE\n",
              "T3     27037\n",
              "T4      1542\n",
              "T6      1216\n",
              "T5      1173\n",
              "T19     1065\n",
              "T8       737\n",
              "T7       725\n",
              "T10      528\n",
              "T9       156\n",
              "T13       66\n",
              "T12       27\n",
              "T2        16\n",
              "T25        3\n",
              "T14        3\n",
              "T29        2\n",
              "T15        2\n",
              "T17        1\n",
              "Name: count, dtype: int64"
            ]
          },
          "execution_count": 8,
          "metadata": {},
          "output_type": "execute_result"
        }
      ],
      "source": [
        "# Look at APPLICATION TYPE counts for binning\n",
        "counts = application_df['APPLICATION_TYPE'].value_counts()\n",
        "counts\n"
      ]
    },
    {
      "cell_type": "code",
      "execution_count": 9,
      "metadata": {
        "colab": {
          "base_uri": "https://localhost:8080/"
        },
        "id": "5GcWxnYvpw5W",
        "outputId": "cb49a566-b0dd-4119-f437-cf1eadf67ea9"
      },
      "outputs": [
        {
          "data": {
            "text/plain": [
              "APPLICATION_TYPE\n",
              "T3       27037\n",
              "T4        1542\n",
              "T6        1216\n",
              "T5        1173\n",
              "T19       1065\n",
              "T8         737\n",
              "T7         725\n",
              "T10        528\n",
              "Other      276\n",
              "Name: count, dtype: int64"
            ]
          },
          "execution_count": 9,
          "metadata": {},
          "output_type": "execute_result"
        }
      ],
      "source": [
        "# Choose a cutoff value and create a list of application types to be replaced\n",
        "# use the variable name `application_types_to_replace`\n",
        "application_types_to_replace = list(counts[counts<500].index)\n",
        "\n",
        "\n",
        "\n",
        "# Replace in dataframe\n",
        "for app in application_types_to_replace:\n",
        "    application_df['APPLICATION_TYPE'] = application_df['APPLICATION_TYPE'].replace(app,\"Other\")\n",
        "\n",
        "# Check to make sure binning was successful\n",
        "application_df['APPLICATION_TYPE'].value_counts()"
      ]
    },
    {
      "cell_type": "code",
      "execution_count": 10,
      "metadata": {
        "id": "npGzwb0E29lm"
      },
      "outputs": [],
      "source": [
        "\n",
        "# Look at CLASSIFICATION value counts for binning\n",
        "countsbinning = application_df['CLASSIFICATION'].value_counts()"
      ]
    },
    {
      "cell_type": "code",
      "execution_count": 11,
      "metadata": {
        "colab": {
          "base_uri": "https://localhost:8080/"
        },
        "id": "sC940THdpw5W",
        "outputId": "6a42ba57-c74e-41eb-8eb0-d8f5c457106b"
      },
      "outputs": [
        {
          "data": {
            "text/plain": [
              "CLASSIFICATION\n",
              "C1000    17326\n",
              "C2000     6074\n",
              "C1200     4837\n",
              "C3000     1918\n",
              "C2100     1883\n",
              "C7000      777\n",
              "C1700      287\n",
              "C4000      194\n",
              "C5000      116\n",
              "C1270      114\n",
              "C2700      104\n",
              "C2800       95\n",
              "C7100       75\n",
              "C1300       58\n",
              "C1280       50\n",
              "C1230       36\n",
              "C1400       34\n",
              "C7200       32\n",
              "C2300       32\n",
              "C1240       30\n",
              "C8000       20\n",
              "C7120       18\n",
              "C1500       16\n",
              "C1800       15\n",
              "C6000       15\n",
              "C1250       14\n",
              "C8200       11\n",
              "C1238       10\n",
              "C1278       10\n",
              "C1235        9\n",
              "C1237        9\n",
              "C7210        7\n",
              "C2400        6\n",
              "C1720        6\n",
              "C4100        6\n",
              "C1257        5\n",
              "C1600        5\n",
              "C1260        3\n",
              "C2710        3\n",
              "C0           3\n",
              "C3200        2\n",
              "C1234        2\n",
              "C1246        2\n",
              "C1267        2\n",
              "C1256        2\n",
              "Name: count, dtype: int64"
            ]
          },
          "execution_count": 11,
          "metadata": {},
          "output_type": "execute_result"
        }
      ],
      "source": [
        "\n",
        "# You may find it helpful to look at CLASSIFICATION value counts >1\n",
        "countsclassification = countsbinning[countsbinning>1]\n",
        "countsclassification"
      ]
    },
    {
      "cell_type": "code",
      "execution_count": 12,
      "metadata": {
        "colab": {
          "base_uri": "https://localhost:8080/"
        },
        "id": "QHxXu_4_pw5Y",
        "outputId": "90ba6483-5a4e-4f8d-c7c0-72441b95e315"
      },
      "outputs": [
        {
          "data": {
            "text/plain": [
              "['C2800',\n",
              " 'C7100',\n",
              " 'C1300',\n",
              " 'C1280',\n",
              " 'C1230',\n",
              " 'C1400',\n",
              " 'C7200',\n",
              " 'C2300',\n",
              " 'C1240',\n",
              " 'C8000',\n",
              " 'C7120',\n",
              " 'C1500',\n",
              " 'C1800',\n",
              " 'C6000',\n",
              " 'C1250',\n",
              " 'C8200',\n",
              " 'C1238',\n",
              " 'C1278',\n",
              " 'C1235',\n",
              " 'C1237',\n",
              " 'C7210',\n",
              " 'C2400',\n",
              " 'C1720',\n",
              " 'C4100',\n",
              " 'C1257',\n",
              " 'C1600',\n",
              " 'C1260',\n",
              " 'C2710',\n",
              " 'C0',\n",
              " 'C3200',\n",
              " 'C1234',\n",
              " 'C1246',\n",
              " 'C1267',\n",
              " 'C1256',\n",
              " 'C2190',\n",
              " 'C4200',\n",
              " 'C2600',\n",
              " 'C5200',\n",
              " 'C1370',\n",
              " 'C1248',\n",
              " 'C6100',\n",
              " 'C1820',\n",
              " 'C1900',\n",
              " 'C1236',\n",
              " 'C3700',\n",
              " 'C2570',\n",
              " 'C1580',\n",
              " 'C1245',\n",
              " 'C2500',\n",
              " 'C1570',\n",
              " 'C1283',\n",
              " 'C2380',\n",
              " 'C1732',\n",
              " 'C1728',\n",
              " 'C2170',\n",
              " 'C4120',\n",
              " 'C8210',\n",
              " 'C2561',\n",
              " 'C4500',\n",
              " 'C2150']"
            ]
          },
          "execution_count": 12,
          "metadata": {},
          "output_type": "execute_result"
        }
      ],
      "source": [
        "# Choose a cutoff value and create a list of classifications to be replaced\n",
        "# use the variable name `classifications_to_replace`\n",
        "classifications_to_replace = list (countsbinning[countsbinning<100].index)\n",
        "classifications_to_replace\n"
      ]
    },
    {
      "cell_type": "code",
      "execution_count": 13,
      "metadata": {
        "colab": {
          "base_uri": "https://localhost:8080/"
        },
        "id": "M6CxiEK33lue",
        "outputId": "bd249362-e506-47ca-b2d5-c3dd74acfa45"
      },
      "outputs": [
        {
          "data": {
            "text/plain": [
              "CLASSIFICATION\n",
              "C1000    17326\n",
              "C2000     6074\n",
              "C1200     4837\n",
              "C3000     1918\n",
              "C2100     1883\n",
              "C7000      777\n",
              "Other      669\n",
              "C1700      287\n",
              "C4000      194\n",
              "C5000      116\n",
              "C1270      114\n",
              "C2700      104\n",
              "Name: count, dtype: int64"
            ]
          },
          "execution_count": 13,
          "metadata": {},
          "output_type": "execute_result"
        }
      ],
      "source": [
        "# Replace in dataframe\n",
        "for cls in classifications_to_replace:\n",
        "    application_df['CLASSIFICATION'] = application_df['CLASSIFICATION'].replace(cls,\"Other\")\n",
        "\n",
        "# Check to make sure binning was successful\n",
        "application_df['CLASSIFICATION'].value_counts()"
      ]
    },
    {
      "cell_type": "code",
      "execution_count": 14,
      "metadata": {
        "colab": {
          "base_uri": "https://localhost:8080/",
          "height": 386
        },
        "id": "PdMloOLNpw5Y",
        "outputId": "46734531-1fec-4191-fe03-0e8f4dca2171"
      },
      "outputs": [
        {
          "data": {
            "text/html": [
              "<div>\n",
              "<style scoped>\n",
              "    .dataframe tbody tr th:only-of-type {\n",
              "        vertical-align: middle;\n",
              "    }\n",
              "\n",
              "    .dataframe tbody tr th {\n",
              "        vertical-align: top;\n",
              "    }\n",
              "\n",
              "    .dataframe thead th {\n",
              "        text-align: right;\n",
              "    }\n",
              "</style>\n",
              "<table border=\"1\" class=\"dataframe\">\n",
              "  <thead>\n",
              "    <tr style=\"text-align: right;\">\n",
              "      <th></th>\n",
              "      <th>STATUS</th>\n",
              "      <th>ASK_AMT</th>\n",
              "      <th>IS_SUCCESSFUL</th>\n",
              "      <th>NAME_AACE INTERNATIONAL</th>\n",
              "      <th>NAME_ACE MENTOR PROGRAM OF AMERICA INC</th>\n",
              "      <th>NAME_ACTS MINISTRY</th>\n",
              "      <th>NAME_ACTS MISSIONS</th>\n",
              "      <th>NAME_AFRICAN-AMERICAN POSTAL LEAGUE UNITED FOR SUCCESS A-PLUS</th>\n",
              "      <th>NAME_AIR FORCE ASSOCIATION</th>\n",
              "      <th>NAME_ALABAMA FEDERATION OF WOMENS CLUBS</th>\n",
              "      <th>...</th>\n",
              "      <th>INCOME_AMT_1-9999</th>\n",
              "      <th>INCOME_AMT_10000-24999</th>\n",
              "      <th>INCOME_AMT_100000-499999</th>\n",
              "      <th>INCOME_AMT_10M-50M</th>\n",
              "      <th>INCOME_AMT_1M-5M</th>\n",
              "      <th>INCOME_AMT_25000-99999</th>\n",
              "      <th>INCOME_AMT_50M+</th>\n",
              "      <th>INCOME_AMT_5M-10M</th>\n",
              "      <th>SPECIAL_CONSIDERATIONS_N</th>\n",
              "      <th>SPECIAL_CONSIDERATIONS_Y</th>\n",
              "    </tr>\n",
              "  </thead>\n",
              "  <tbody>\n",
              "    <tr>\n",
              "      <th>0</th>\n",
              "      <td>1</td>\n",
              "      <td>5000</td>\n",
              "      <td>1</td>\n",
              "      <td>0.0</td>\n",
              "      <td>0.0</td>\n",
              "      <td>0.0</td>\n",
              "      <td>0.0</td>\n",
              "      <td>0.0</td>\n",
              "      <td>0.0</td>\n",
              "      <td>0.0</td>\n",
              "      <td>...</td>\n",
              "      <td>0.0</td>\n",
              "      <td>0.0</td>\n",
              "      <td>0.0</td>\n",
              "      <td>0.0</td>\n",
              "      <td>0.0</td>\n",
              "      <td>0.0</td>\n",
              "      <td>0.0</td>\n",
              "      <td>0.0</td>\n",
              "      <td>1.0</td>\n",
              "      <td>0.0</td>\n",
              "    </tr>\n",
              "    <tr>\n",
              "      <th>1</th>\n",
              "      <td>1</td>\n",
              "      <td>108590</td>\n",
              "      <td>1</td>\n",
              "      <td>0.0</td>\n",
              "      <td>0.0</td>\n",
              "      <td>0.0</td>\n",
              "      <td>0.0</td>\n",
              "      <td>0.0</td>\n",
              "      <td>0.0</td>\n",
              "      <td>0.0</td>\n",
              "      <td>...</td>\n",
              "      <td>1.0</td>\n",
              "      <td>0.0</td>\n",
              "      <td>0.0</td>\n",
              "      <td>0.0</td>\n",
              "      <td>0.0</td>\n",
              "      <td>0.0</td>\n",
              "      <td>0.0</td>\n",
              "      <td>0.0</td>\n",
              "      <td>1.0</td>\n",
              "      <td>0.0</td>\n",
              "    </tr>\n",
              "    <tr>\n",
              "      <th>2</th>\n",
              "      <td>1</td>\n",
              "      <td>5000</td>\n",
              "      <td>0</td>\n",
              "      <td>0.0</td>\n",
              "      <td>0.0</td>\n",
              "      <td>0.0</td>\n",
              "      <td>0.0</td>\n",
              "      <td>0.0</td>\n",
              "      <td>0.0</td>\n",
              "      <td>0.0</td>\n",
              "      <td>...</td>\n",
              "      <td>0.0</td>\n",
              "      <td>0.0</td>\n",
              "      <td>0.0</td>\n",
              "      <td>0.0</td>\n",
              "      <td>0.0</td>\n",
              "      <td>0.0</td>\n",
              "      <td>0.0</td>\n",
              "      <td>0.0</td>\n",
              "      <td>1.0</td>\n",
              "      <td>0.0</td>\n",
              "    </tr>\n",
              "    <tr>\n",
              "      <th>3</th>\n",
              "      <td>1</td>\n",
              "      <td>6692</td>\n",
              "      <td>1</td>\n",
              "      <td>0.0</td>\n",
              "      <td>0.0</td>\n",
              "      <td>0.0</td>\n",
              "      <td>0.0</td>\n",
              "      <td>0.0</td>\n",
              "      <td>0.0</td>\n",
              "      <td>0.0</td>\n",
              "      <td>...</td>\n",
              "      <td>0.0</td>\n",
              "      <td>1.0</td>\n",
              "      <td>0.0</td>\n",
              "      <td>0.0</td>\n",
              "      <td>0.0</td>\n",
              "      <td>0.0</td>\n",
              "      <td>0.0</td>\n",
              "      <td>0.0</td>\n",
              "      <td>1.0</td>\n",
              "      <td>0.0</td>\n",
              "    </tr>\n",
              "    <tr>\n",
              "      <th>4</th>\n",
              "      <td>1</td>\n",
              "      <td>142590</td>\n",
              "      <td>1</td>\n",
              "      <td>0.0</td>\n",
              "      <td>0.0</td>\n",
              "      <td>0.0</td>\n",
              "      <td>0.0</td>\n",
              "      <td>0.0</td>\n",
              "      <td>0.0</td>\n",
              "      <td>0.0</td>\n",
              "      <td>...</td>\n",
              "      <td>0.0</td>\n",
              "      <td>0.0</td>\n",
              "      <td>1.0</td>\n",
              "      <td>0.0</td>\n",
              "      <td>0.0</td>\n",
              "      <td>0.0</td>\n",
              "      <td>0.0</td>\n",
              "      <td>0.0</td>\n",
              "      <td>1.0</td>\n",
              "      <td>0.0</td>\n",
              "    </tr>\n",
              "  </tbody>\n",
              "</table>\n",
              "<p>5 rows × 453 columns</p>\n",
              "</div>"
            ],
            "text/plain": [
              "   STATUS  ASK_AMT  IS_SUCCESSFUL  NAME_AACE INTERNATIONAL   \n",
              "0       1     5000              1                      0.0  \\\n",
              "1       1   108590              1                      0.0   \n",
              "2       1     5000              0                      0.0   \n",
              "3       1     6692              1                      0.0   \n",
              "4       1   142590              1                      0.0   \n",
              "\n",
              "   NAME_ACE MENTOR PROGRAM OF AMERICA INC  NAME_ACTS MINISTRY   \n",
              "0                                     0.0                 0.0  \\\n",
              "1                                     0.0                 0.0   \n",
              "2                                     0.0                 0.0   \n",
              "3                                     0.0                 0.0   \n",
              "4                                     0.0                 0.0   \n",
              "\n",
              "   NAME_ACTS MISSIONS   \n",
              "0                 0.0  \\\n",
              "1                 0.0   \n",
              "2                 0.0   \n",
              "3                 0.0   \n",
              "4                 0.0   \n",
              "\n",
              "   NAME_AFRICAN-AMERICAN POSTAL LEAGUE UNITED FOR SUCCESS A-PLUS   \n",
              "0                                                0.0              \\\n",
              "1                                                0.0               \n",
              "2                                                0.0               \n",
              "3                                                0.0               \n",
              "4                                                0.0               \n",
              "\n",
              "   NAME_AIR FORCE ASSOCIATION  NAME_ALABAMA FEDERATION OF WOMENS CLUBS  ...   \n",
              "0                         0.0                                      0.0  ...  \\\n",
              "1                         0.0                                      0.0  ...   \n",
              "2                         0.0                                      0.0  ...   \n",
              "3                         0.0                                      0.0  ...   \n",
              "4                         0.0                                      0.0  ...   \n",
              "\n",
              "   INCOME_AMT_1-9999  INCOME_AMT_10000-24999  INCOME_AMT_100000-499999   \n",
              "0                0.0                     0.0                       0.0  \\\n",
              "1                1.0                     0.0                       0.0   \n",
              "2                0.0                     0.0                       0.0   \n",
              "3                0.0                     1.0                       0.0   \n",
              "4                0.0                     0.0                       1.0   \n",
              "\n",
              "   INCOME_AMT_10M-50M  INCOME_AMT_1M-5M  INCOME_AMT_25000-99999   \n",
              "0                 0.0               0.0                     0.0  \\\n",
              "1                 0.0               0.0                     0.0   \n",
              "2                 0.0               0.0                     0.0   \n",
              "3                 0.0               0.0                     0.0   \n",
              "4                 0.0               0.0                     0.0   \n",
              "\n",
              "   INCOME_AMT_50M+  INCOME_AMT_5M-10M  SPECIAL_CONSIDERATIONS_N   \n",
              "0              0.0                0.0                       1.0  \\\n",
              "1              0.0                0.0                       1.0   \n",
              "2              0.0                0.0                       1.0   \n",
              "3              0.0                0.0                       1.0   \n",
              "4              0.0                0.0                       1.0   \n",
              "\n",
              "   SPECIAL_CONSIDERATIONS_Y  \n",
              "0                       0.0  \n",
              "1                       0.0  \n",
              "2                       0.0  \n",
              "3                       0.0  \n",
              "4                       0.0  \n",
              "\n",
              "[5 rows x 453 columns]"
            ]
          },
          "execution_count": 14,
          "metadata": {},
          "output_type": "execute_result"
        }
      ],
      "source": [
        "# Convert categorical data to numeric with `pd.get_dummies`\n",
        "application_df = pd.get_dummies(application_df,dtype=float)\n",
        "application_df.head()"
      ]
    },
    {
      "cell_type": "code",
      "execution_count": 15,
      "metadata": {
        "id": "TQ-CriP7pw5Z"
      },
      "outputs": [],
      "source": [
        "# Split our preprocessed data into our features and target arrays\n",
        "y = application_df['IS_SUCCESSFUL'].values\n",
        "\n",
        "# drop 'IS SUCCESSFUL'\n",
        "X = application_df.drop('IS_SUCCESSFUL', axis=1).values\n",
        "\n"
      ]
    },
    {
      "cell_type": "code",
      "execution_count": 16,
      "metadata": {
        "id": "P9KPji6x8FkG"
      },
      "outputs": [],
      "source": [
        "\n",
        "# Split the preprocessed data into a training and testing dataset\n",
        "X_train, X_test, y_train, y_test = train_test_split(X,y,random_state = 42)"
      ]
    },
    {
      "cell_type": "code",
      "execution_count": 17,
      "metadata": {
        "id": "Kna6Kztwpw5Z"
      },
      "outputs": [],
      "source": [
        "# Create a StandardScaler instances\n",
        "scaler = StandardScaler()\n",
        "\n",
        "# Fit the StandardScaler\n",
        "X_scaler = scaler.fit(X_train)\n",
        "\n",
        "# Scale the data\n",
        "X_train_scaled = X_scaler.transform(X_train)\n",
        "X_test_scaled = X_scaler.transform(X_test)"
      ]
    },
    {
      "cell_type": "markdown",
      "metadata": {
        "id": "di49TxUXpw5Z"
      },
      "source": [
        "## Optimization 1 Adding more Neuron layers"
      ]
    },
    {
      "cell_type": "code",
      "execution_count": 18,
      "metadata": {
        "colab": {
          "base_uri": "https://localhost:8080/"
        },
        "id": "3gQX8PjUpw5Z",
        "outputId": "a6bd97c5-68d4-4ee9-af53-fb253f797af2"
      },
      "outputs": [
        {
          "name": "stdout",
          "output_type": "stream",
          "text": [
            "Model: \"sequential\"\n",
            "_________________________________________________________________\n",
            " Layer (type)                Output Shape              Param #   \n",
            "=================================================================\n",
            " dense (Dense)               (None, 75)                33975     \n",
            "                                                                 \n",
            " dense_1 (Dense)             (None, 30)                2280      \n",
            "                                                                 \n",
            " dense_2 (Dense)             (None, 1)                 31        \n",
            "                                                                 \n",
            "=================================================================\n",
            "Total params: 36286 (141.74 KB)\n",
            "Trainable params: 36286 (141.74 KB)\n",
            "Non-trainable params: 0 (0.00 Byte)\n",
            "_________________________________________________________________\n"
          ]
        }
      ],
      "source": [
        "# Define the model - deep neural net, i.e., the number of input features and hidden nodes for each layer.\n",
        "units_1 = 75\n",
        "units_2 = 30\n",
        "input_features = len(X_train_scaled[0])\n",
        "nn_model1 = tf.keras.models.Sequential()\n",
        "\n",
        "# First hidden layer\n",
        "nn_model1.add(tf.keras.layers.Dense(units=units_1, input_dim = input_features, activation = \"relu\"))\n",
        "\n",
        "# Second hidden layer\n",
        "nn_model1.add(tf.keras.layers.Dense(units=units_2, activation = \"relu\"))\n",
        "\n",
        "# Output layer\n",
        "nn_model1.add(tf.keras.layers.Dense(units=1, activation=\"sigmoid\"))\n",
        "\n",
        "# Check the structure of the model\n",
        "nn_model1.summary()"
      ]
    },
    {
      "cell_type": "code",
      "execution_count": 26,
      "metadata": {
        "id": "LYtCgZT8pw5Z"
      },
      "outputs": [],
      "source": [
        "# Compile the model\n",
        "nn_model1.compile(loss='binary_crossentropy', optimizer='adam', metrics=['accuracy'])"
      ]
    },
    {
      "cell_type": "code",
      "execution_count": 27,
      "metadata": {
        "colab": {
          "base_uri": "https://localhost:8080/"
        },
        "id": "58aV01vWpw5Z",
        "outputId": "2be4dad4-5168-43a4-e742-b816826746c1"
      },
      "outputs": [
        {
          "name": "stdout",
          "output_type": "stream",
          "text": [
            "Epoch 1/50\n",
            "804/804 [==============================] - 1s 917us/step - loss: 0.4018 - accuracy: 0.8097\n",
            "Epoch 2/50\n",
            "804/804 [==============================] - 1s 913us/step - loss: 0.4002 - accuracy: 0.8103\n",
            "Epoch 3/50\n",
            "804/804 [==============================] - 1s 873us/step - loss: 0.3996 - accuracy: 0.8107\n",
            "Epoch 4/50\n",
            "804/804 [==============================] - 1s 878us/step - loss: 0.4000 - accuracy: 0.8097\n",
            "Epoch 5/50\n",
            "804/804 [==============================] - 1s 903us/step - loss: 0.3997 - accuracy: 0.8101\n",
            "Epoch 6/50\n",
            "804/804 [==============================] - 1s 929us/step - loss: 0.3993 - accuracy: 0.8102\n",
            "Epoch 7/50\n",
            "804/804 [==============================] - 1s 894us/step - loss: 0.3989 - accuracy: 0.8098\n",
            "Epoch 8/50\n",
            "804/804 [==============================] - 1s 893us/step - loss: 0.3991 - accuracy: 0.8106\n",
            "Epoch 9/50\n",
            "804/804 [==============================] - 1s 874us/step - loss: 0.3990 - accuracy: 0.8103\n",
            "Epoch 10/50\n",
            "804/804 [==============================] - 1s 910us/step - loss: 0.3981 - accuracy: 0.8091\n",
            "Epoch 11/50\n",
            "804/804 [==============================] - 1s 877us/step - loss: 0.3984 - accuracy: 0.8103\n",
            "Epoch 12/50\n",
            "804/804 [==============================] - 1s 917us/step - loss: 0.3985 - accuracy: 0.8113\n",
            "Epoch 13/50\n",
            "804/804 [==============================] - 1s 872us/step - loss: 0.3986 - accuracy: 0.8105\n",
            "Epoch 14/50\n",
            "804/804 [==============================] - 1s 880us/step - loss: 0.3981 - accuracy: 0.8101\n",
            "Epoch 15/50\n",
            "804/804 [==============================] - 1s 924us/step - loss: 0.3982 - accuracy: 0.8106\n",
            "Epoch 16/50\n",
            "804/804 [==============================] - 1s 938us/step - loss: 0.3974 - accuracy: 0.8107\n",
            "Epoch 17/50\n",
            "804/804 [==============================] - 1s 879us/step - loss: 0.3977 - accuracy: 0.8110\n",
            "Epoch 18/50\n",
            "804/804 [==============================] - 1s 874us/step - loss: 0.3972 - accuracy: 0.8105\n",
            "Epoch 19/50\n",
            "804/804 [==============================] - 1s 875us/step - loss: 0.3974 - accuracy: 0.8103\n",
            "Epoch 20/50\n",
            "804/804 [==============================] - 1s 906us/step - loss: 0.3971 - accuracy: 0.8105\n",
            "Epoch 21/50\n",
            "804/804 [==============================] - 1s 880us/step - loss: 0.3973 - accuracy: 0.8106\n",
            "Epoch 22/50\n",
            "804/804 [==============================] - 1s 876us/step - loss: 0.3966 - accuracy: 0.8113\n",
            "Epoch 23/50\n",
            "804/804 [==============================] - 1s 906us/step - loss: 0.3968 - accuracy: 0.8108\n",
            "Epoch 24/50\n",
            "804/804 [==============================] - 1s 1ms/step - loss: 0.3971 - accuracy: 0.8109\n",
            "Epoch 25/50\n",
            "804/804 [==============================] - 1s 904us/step - loss: 0.3966 - accuracy: 0.8113\n",
            "Epoch 26/50\n",
            "804/804 [==============================] - 1s 959us/step - loss: 0.3966 - accuracy: 0.8112\n",
            "Epoch 27/50\n",
            "804/804 [==============================] - 1s 888us/step - loss: 0.3966 - accuracy: 0.8113\n",
            "Epoch 28/50\n",
            "804/804 [==============================] - 1s 884us/step - loss: 0.3967 - accuracy: 0.8107\n",
            "Epoch 29/50\n",
            "804/804 [==============================] - 1s 882us/step - loss: 0.3962 - accuracy: 0.8108\n",
            "Epoch 30/50\n",
            "804/804 [==============================] - 1s 896us/step - loss: 0.3963 - accuracy: 0.8107\n",
            "Epoch 31/50\n",
            "804/804 [==============================] - 1s 924us/step - loss: 0.3959 - accuracy: 0.8111\n",
            "Epoch 32/50\n",
            "804/804 [==============================] - 1s 906us/step - loss: 0.3961 - accuracy: 0.8119\n",
            "Epoch 33/50\n",
            "804/804 [==============================] - 1s 910us/step - loss: 0.3960 - accuracy: 0.8111\n",
            "Epoch 34/50\n",
            "804/804 [==============================] - 1s 873us/step - loss: 0.3956 - accuracy: 0.8117\n",
            "Epoch 35/50\n",
            "804/804 [==============================] - 1s 874us/step - loss: 0.3960 - accuracy: 0.8117\n",
            "Epoch 36/50\n",
            "804/804 [==============================] - 1s 901us/step - loss: 0.3956 - accuracy: 0.8113\n",
            "Epoch 37/50\n",
            "804/804 [==============================] - 1s 892us/step - loss: 0.3951 - accuracy: 0.8117\n",
            "Epoch 38/50\n",
            "804/804 [==============================] - 1s 881us/step - loss: 0.3952 - accuracy: 0.8115\n",
            "Epoch 39/50\n",
            "804/804 [==============================] - 1s 958us/step - loss: 0.3949 - accuracy: 0.8116\n",
            "Epoch 40/50\n",
            "804/804 [==============================] - 1s 899us/step - loss: 0.3958 - accuracy: 0.8111\n",
            "Epoch 41/50\n",
            "804/804 [==============================] - 1s 881us/step - loss: 0.3954 - accuracy: 0.8112\n",
            "Epoch 42/50\n",
            "804/804 [==============================] - 1s 945us/step - loss: 0.3954 - accuracy: 0.8117\n",
            "Epoch 43/50\n",
            "804/804 [==============================] - 1s 926us/step - loss: 0.3954 - accuracy: 0.8118\n",
            "Epoch 44/50\n",
            "804/804 [==============================] - 1s 952us/step - loss: 0.3955 - accuracy: 0.8114\n",
            "Epoch 45/50\n",
            "804/804 [==============================] - 1s 923us/step - loss: 0.3948 - accuracy: 0.8114\n",
            "Epoch 46/50\n",
            "804/804 [==============================] - 1s 892us/step - loss: 0.3952 - accuracy: 0.8116\n",
            "Epoch 47/50\n",
            "804/804 [==============================] - 1s 880us/step - loss: 0.3952 - accuracy: 0.8111\n",
            "Epoch 48/50\n",
            "804/804 [==============================] - 1s 885us/step - loss: 0.3947 - accuracy: 0.8123\n",
            "Epoch 49/50\n",
            "804/804 [==============================] - 1s 905us/step - loss: 0.3946 - accuracy: 0.8119\n",
            "Epoch 50/50\n",
            "804/804 [==============================] - 1s 882us/step - loss: 0.3945 - accuracy: 0.8112\n"
          ]
        }
      ],
      "source": [
        "# Train the model\n",
        "fit_model = nn_model1.fit(X_train_scaled, y_train, epochs=50)"
      ]
    },
    {
      "cell_type": "code",
      "execution_count": 28,
      "metadata": {
        "colab": {
          "base_uri": "https://localhost:8080/"
        },
        "id": "t3MzBivCpw5a",
        "outputId": "d1090419-1e38-4fe9-bfb4-22ab99c5eca6"
      },
      "outputs": [
        {
          "name": "stdout",
          "output_type": "stream",
          "text": [
            "268/268 - 0s - loss: 0.5196 - accuracy: 0.7885 - 263ms/epoch - 981us/step\n",
            "Loss: 0.5195726752281189, Accuracy: 0.7884548306465149\n"
          ]
        }
      ],
      "source": [
        "# Evaluate the model using the test data\n",
        "model_loss, model_accuracy = nn_model1.evaluate(X_test_scaled,y_test,verbose=2)\n",
        "print(f\"Loss: {model_loss}, Accuracy: {model_accuracy}\")"
      ]
    },
    {
      "cell_type": "markdown",
      "metadata": {
        "id": "H8YrD8-jJY6i"
      },
      "source": [
        "##Accuracy is 78.8%"
      ]
    },
    {
      "cell_type": "code",
      "execution_count": 32,
      "metadata": {
        "colab": {
          "base_uri": "https://localhost:8080/",
          "height": 17
        },
        "id": "3IAXwxH9I5ds",
        "outputId": "483bbf51-7862-4aeb-c8f7-55aba5932ce9"
      },
      "outputs": [
        {
          "name": "stderr",
          "output_type": "stream",
          "text": [
            "c:\\Users\\starb\\anaconda3\\envs\\pythondata\\Lib\\site-packages\\keras\\src\\engine\\training.py:3000: UserWarning: You are saving your model as an HDF5 file via `model.save()`. This file format is considered legacy. We recommend using instead the native Keras format, e.g. `model.save('my_model.keras')`.\n",
            "  saving_api.save_model(\n"
          ]
        }
      ],
      "source": [
        "# Save the model to a HDF5 file\n",
        "nn_model1.save('AlphabetSoupCharity_optimization.h5')\n"
      ]
    },
    {
      "cell_type": "markdown",
      "metadata": {
        "id": "jipLrcDIJW93"
      },
      "source": []
    }
  ],
  "metadata": {
    "colab": {
      "provenance": []
    },
    "kernelspec": {
      "display_name": "Python 3",
      "language": "python",
      "name": "python3"
    },
    "language_info": {
      "codemirror_mode": {
        "name": "ipython",
        "version": 3
      },
      "file_extension": ".py",
      "mimetype": "text/x-python",
      "name": "python",
      "nbconvert_exporter": "python",
      "pygments_lexer": "ipython3",
      "version": "3.11.3"
    },
    "vscode": {
      "interpreter": {
        "hash": "31f2aee4e71d21fbe5cf8b01ff0e069b9275f58929596ceb00d14d90e3e16cd6"
      }
    }
  },
  "nbformat": 4,
  "nbformat_minor": 0
}
